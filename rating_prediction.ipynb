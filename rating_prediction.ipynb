{
 "cells": [
  {
   "cell_type": "markdown",
   "id": "28c7f58e",
   "metadata": {},
   "source": [
    "# 1. Eksplorasi Dataset"
   ]
  },
  {
   "cell_type": "code",
   "execution_count": 5,
   "id": "a897207f",
   "metadata": {},
   "outputs": [],
   "source": [
    "import re\n",
    "import string\n",
    "import pandas as pd\n",
    "import numpy as np\n",
    "\n",
    "from nltk.corpus import stopwords\n",
    "from nltk.tokenize import word_tokenize\n",
    "from Sastrawi.Stemmer.StemmerFactory import StemmerFactory\n",
    "import nltk\n",
    "\n",
    "from sklearn.model_selection import train_test_split\n",
    "from sklearn.feature_extraction.text import TfidfVectorizer, CountVectorizer, TfidfTransformer\n",
    "from sklearn.preprocessing import StandardScaler\n",
    "from sklearn.compose import ColumnTransformer\n",
    "from sklearn.pipeline import Pipeline\n",
    "from sklearn.linear_model import LogisticRegression, SGDClassifier\n",
    "from sklearn.ensemble import RandomForestClassifier\n",
    "from sklearn.svm import LinearSVC, SVC\n",
    "from xgboost import XGBClassifier\n",
    "from sklearn.metrics import classification_report, accuracy_score\n",
    "\n",
    "import warnings\n",
    "warnings.filterwarnings(\"ignore\")"
   ]
  },
  {
   "cell_type": "code",
   "execution_count": 6,
   "id": "a3ab825c",
   "metadata": {},
   "outputs": [
    {
     "name": "stderr",
     "output_type": "stream",
     "text": [
      "[nltk_data] Downloading package stopwords to\n",
      "[nltk_data]     C:\\Users\\ASUS\\AppData\\Roaming\\nltk_data...\n",
      "[nltk_data]   Package stopwords is already up-to-date!\n",
      "[nltk_data] Downloading package punkt_tab to\n",
      "[nltk_data]     C:\\Users\\ASUS\\AppData\\Roaming\\nltk_data...\n",
      "[nltk_data]   Package punkt_tab is already up-to-date!\n",
      "[nltk_data] Downloading package punkt to\n",
      "[nltk_data]     C:\\Users\\ASUS\\AppData\\Roaming\\nltk_data...\n",
      "[nltk_data]   Package punkt is already up-to-date!\n"
     ]
    },
    {
     "data": {
      "text/plain": [
       "True"
      ]
     },
     "execution_count": 6,
     "metadata": {},
     "output_type": "execute_result"
    }
   ],
   "source": [
    "nltk.download('stopwords')\n",
    "nltk.download('punkt_tab')\n",
    "nltk.download('punkt')"
   ]
  },
  {
   "cell_type": "code",
   "execution_count": 7,
   "id": "3b4e0258",
   "metadata": {},
   "outputs": [
    {
     "data": {
      "text/html": [
       "<div>\n",
       "<style scoped>\n",
       "    .dataframe tbody tr th:only-of-type {\n",
       "        vertical-align: middle;\n",
       "    }\n",
       "\n",
       "    .dataframe tbody tr th {\n",
       "        vertical-align: top;\n",
       "    }\n",
       "\n",
       "    .dataframe thead th {\n",
       "        text-align: right;\n",
       "    }\n",
       "</style>\n",
       "<table border=\"1\" class=\"dataframe\">\n",
       "  <thead>\n",
       "    <tr style=\"text-align: right;\">\n",
       "      <th></th>\n",
       "      <th>reviewId</th>\n",
       "      <th>userName</th>\n",
       "      <th>userImage</th>\n",
       "      <th>content</th>\n",
       "      <th>score</th>\n",
       "      <th>thumbsUpCount</th>\n",
       "      <th>reviewCreatedVersion</th>\n",
       "      <th>at</th>\n",
       "      <th>replyContent</th>\n",
       "      <th>repliedAt</th>\n",
       "      <th>appVersion</th>\n",
       "      <th>clean_content</th>\n",
       "    </tr>\n",
       "  </thead>\n",
       "  <tbody>\n",
       "    <tr>\n",
       "      <th>0</th>\n",
       "      <td>da18edfa-431b-494d-8f2f-cd92414635a3</td>\n",
       "      <td>Pengguna Google</td>\n",
       "      <td>https://play-lh.googleusercontent.com/EGemoI2N...</td>\n",
       "      <td>seru si game nya ringan kalo dibandingin sama ...</td>\n",
       "      <td>4</td>\n",
       "      <td>1</td>\n",
       "      <td>1.59.2.5</td>\n",
       "      <td>2025-08-25 21:56:17</td>\n",
       "      <td>NaN</td>\n",
       "      <td>NaN</td>\n",
       "      <td>1.59.2.5</td>\n",
       "      <td>seru si game nya ringan dibandingin moba gold ...</td>\n",
       "    </tr>\n",
       "    <tr>\n",
       "      <th>1</th>\n",
       "      <td>d09619c4-6e7e-4d57-b41d-418cfbe887be</td>\n",
       "      <td>Pengguna Google</td>\n",
       "      <td>https://play-lh.googleusercontent.com/EGemoI2N...</td>\n",
       "      <td>kenapa selalu setiap update file file yang sud...</td>\n",
       "      <td>5</td>\n",
       "      <td>596</td>\n",
       "      <td>1.59.2.5</td>\n",
       "      <td>2025-07-10 12:40:50</td>\n",
       "      <td>NaN</td>\n",
       "      <td>NaN</td>\n",
       "      <td>1.59.2.5</td>\n",
       "      <td>update file file unduh unduh ulang kali update...</td>\n",
       "    </tr>\n",
       "    <tr>\n",
       "      <th>2</th>\n",
       "      <td>ef1494b8-7b81-4d5f-a627-decc9578c101</td>\n",
       "      <td>Pengguna Google</td>\n",
       "      <td>https://play-lh.googleusercontent.com/EGemoI2N...</td>\n",
       "      <td>Saya sebagai pemain dirugikan pada update kali...</td>\n",
       "      <td>5</td>\n",
       "      <td>373</td>\n",
       "      <td>1.59.1.1</td>\n",
       "      <td>2025-06-22 20:51:44</td>\n",
       "      <td>NaN</td>\n",
       "      <td>NaN</td>\n",
       "      <td>1.59.1.1</td>\n",
       "      <td>main rugi update kali bot main tim bot gerak t...</td>\n",
       "    </tr>\n",
       "    <tr>\n",
       "      <th>3</th>\n",
       "      <td>8fd28a39-8b3f-4640-b6a4-b86e64f9f823</td>\n",
       "      <td>Pengguna Google</td>\n",
       "      <td>https://play-lh.googleusercontent.com/EGemoI2N...</td>\n",
       "      <td>game nya udah seru banget, tapi tolong untuk f...</td>\n",
       "      <td>5</td>\n",
       "      <td>163</td>\n",
       "      <td>1.58.2.4</td>\n",
       "      <td>2025-06-28 19:35:30</td>\n",
       "      <td>NaN</td>\n",
       "      <td>NaN</td>\n",
       "      <td>1.58.2.4</td>\n",
       "      <td>game nya udah seru banget tolong full data siz...</td>\n",
       "    </tr>\n",
       "    <tr>\n",
       "      <th>4</th>\n",
       "      <td>68aef109-aec0-424d-816f-7d1e95f926ac</td>\n",
       "      <td>Pengguna Google</td>\n",
       "      <td>https://play-lh.googleusercontent.com/EGemoI2N...</td>\n",
       "      <td>Ada 4 masalah yang saya harapkan diperbaiki : ...</td>\n",
       "      <td>1</td>\n",
       "      <td>817</td>\n",
       "      <td>1.58.2.4</td>\n",
       "      <td>2025-06-14 10:01:48</td>\n",
       "      <td>NaN</td>\n",
       "      <td>NaN</td>\n",
       "      <td>1.58.2.4</td>\n",
       "      <td>harap baik matching player siang malam matchin...</td>\n",
       "    </tr>\n",
       "  </tbody>\n",
       "</table>\n",
       "</div>"
      ],
      "text/plain": [
       "                               reviewId         userName  \\\n",
       "0  da18edfa-431b-494d-8f2f-cd92414635a3  Pengguna Google   \n",
       "1  d09619c4-6e7e-4d57-b41d-418cfbe887be  Pengguna Google   \n",
       "2  ef1494b8-7b81-4d5f-a627-decc9578c101  Pengguna Google   \n",
       "3  8fd28a39-8b3f-4640-b6a4-b86e64f9f823  Pengguna Google   \n",
       "4  68aef109-aec0-424d-816f-7d1e95f926ac  Pengguna Google   \n",
       "\n",
       "                                           userImage  \\\n",
       "0  https://play-lh.googleusercontent.com/EGemoI2N...   \n",
       "1  https://play-lh.googleusercontent.com/EGemoI2N...   \n",
       "2  https://play-lh.googleusercontent.com/EGemoI2N...   \n",
       "3  https://play-lh.googleusercontent.com/EGemoI2N...   \n",
       "4  https://play-lh.googleusercontent.com/EGemoI2N...   \n",
       "\n",
       "                                             content  score  thumbsUpCount  \\\n",
       "0  seru si game nya ringan kalo dibandingin sama ...      4              1   \n",
       "1  kenapa selalu setiap update file file yang sud...      5            596   \n",
       "2  Saya sebagai pemain dirugikan pada update kali...      5            373   \n",
       "3  game nya udah seru banget, tapi tolong untuk f...      5            163   \n",
       "4  Ada 4 masalah yang saya harapkan diperbaiki : ...      1            817   \n",
       "\n",
       "  reviewCreatedVersion                   at replyContent repliedAt appVersion  \\\n",
       "0             1.59.2.5  2025-08-25 21:56:17          NaN       NaN   1.59.2.5   \n",
       "1             1.59.2.5  2025-07-10 12:40:50          NaN       NaN   1.59.2.5   \n",
       "2             1.59.1.1  2025-06-22 20:51:44          NaN       NaN   1.59.1.1   \n",
       "3             1.58.2.4  2025-06-28 19:35:30          NaN       NaN   1.58.2.4   \n",
       "4             1.58.2.4  2025-06-14 10:01:48          NaN       NaN   1.58.2.4   \n",
       "\n",
       "                                       clean_content  \n",
       "0  seru si game nya ringan dibandingin moba gold ...  \n",
       "1  update file file unduh unduh ulang kali update...  \n",
       "2  main rugi update kali bot main tim bot gerak t...  \n",
       "3  game nya udah seru banget tolong full data siz...  \n",
       "4  harap baik matching player siang malam matchin...  "
      ]
     },
     "execution_count": 7,
     "metadata": {},
     "output_type": "execute_result"
    }
   ],
   "source": [
    "df = pd.read_csv('dataset_MOBA_clean2.csv')\n",
    "df.head()"
   ]
  },
  {
   "cell_type": "code",
   "execution_count": 58,
   "id": "3c30adcc",
   "metadata": {},
   "outputs": [
    {
     "data": {
      "text/plain": [
       "(400000, 12)"
      ]
     },
     "execution_count": 58,
     "metadata": {},
     "output_type": "execute_result"
    }
   ],
   "source": [
    "df.shape"
   ]
  },
  {
   "cell_type": "code",
   "execution_count": 5,
   "id": "48012f8c",
   "metadata": {},
   "outputs": [
    {
     "data": {
      "text/html": [
       "<div>\n",
       "<style scoped>\n",
       "    .dataframe tbody tr th:only-of-type {\n",
       "        vertical-align: middle;\n",
       "    }\n",
       "\n",
       "    .dataframe tbody tr th {\n",
       "        vertical-align: top;\n",
       "    }\n",
       "\n",
       "    .dataframe thead th {\n",
       "        text-align: right;\n",
       "    }\n",
       "</style>\n",
       "<table border=\"1\" class=\"dataframe\">\n",
       "  <thead>\n",
       "    <tr style=\"text-align: right;\">\n",
       "      <th></th>\n",
       "      <th>dtype</th>\n",
       "      <th>count</th>\n",
       "      <th>unique</th>\n",
       "      <th>top</th>\n",
       "      <th>freq</th>\n",
       "      <th>mean</th>\n",
       "      <th>std</th>\n",
       "      <th>min</th>\n",
       "      <th>25%</th>\n",
       "      <th>50%</th>\n",
       "      <th>75%</th>\n",
       "      <th>max</th>\n",
       "    </tr>\n",
       "  </thead>\n",
       "  <tbody>\n",
       "    <tr>\n",
       "      <th>reviewId</th>\n",
       "      <td>object</td>\n",
       "      <td>400000</td>\n",
       "      <td>400000</td>\n",
       "      <td>da18edfa-431b-494d-8f2f-cd92414635a3</td>\n",
       "      <td>1</td>\n",
       "      <td>NaN</td>\n",
       "      <td>NaN</td>\n",
       "      <td>NaN</td>\n",
       "      <td>NaN</td>\n",
       "      <td>NaN</td>\n",
       "      <td>NaN</td>\n",
       "      <td>NaN</td>\n",
       "    </tr>\n",
       "    <tr>\n",
       "      <th>userName</th>\n",
       "      <td>object</td>\n",
       "      <td>400000</td>\n",
       "      <td>14943</td>\n",
       "      <td>Pengguna Google</td>\n",
       "      <td>384889</td>\n",
       "      <td>NaN</td>\n",
       "      <td>NaN</td>\n",
       "      <td>NaN</td>\n",
       "      <td>NaN</td>\n",
       "      <td>NaN</td>\n",
       "      <td>NaN</td>\n",
       "      <td>NaN</td>\n",
       "    </tr>\n",
       "    <tr>\n",
       "      <th>userImage</th>\n",
       "      <td>object</td>\n",
       "      <td>400000</td>\n",
       "      <td>15101</td>\n",
       "      <td>https://play-lh.googleusercontent.com/EGemoI2N...</td>\n",
       "      <td>384889</td>\n",
       "      <td>NaN</td>\n",
       "      <td>NaN</td>\n",
       "      <td>NaN</td>\n",
       "      <td>NaN</td>\n",
       "      <td>NaN</td>\n",
       "      <td>NaN</td>\n",
       "      <td>NaN</td>\n",
       "    </tr>\n",
       "    <tr>\n",
       "      <th>content</th>\n",
       "      <td>object</td>\n",
       "      <td>400000</td>\n",
       "      <td>377697</td>\n",
       "      <td>Game nya bagus</td>\n",
       "      <td>606</td>\n",
       "      <td>NaN</td>\n",
       "      <td>NaN</td>\n",
       "      <td>NaN</td>\n",
       "      <td>NaN</td>\n",
       "      <td>NaN</td>\n",
       "      <td>NaN</td>\n",
       "      <td>NaN</td>\n",
       "    </tr>\n",
       "    <tr>\n",
       "      <th>score</th>\n",
       "      <td>int64</td>\n",
       "      <td>400000.0</td>\n",
       "      <td>NaN</td>\n",
       "      <td>NaN</td>\n",
       "      <td>NaN</td>\n",
       "      <td>3.201427</td>\n",
       "      <td>1.793995</td>\n",
       "      <td>1.0</td>\n",
       "      <td>1.0</td>\n",
       "      <td>4.0</td>\n",
       "      <td>5.0</td>\n",
       "      <td>5.0</td>\n",
       "    </tr>\n",
       "    <tr>\n",
       "      <th>thumbsUpCount</th>\n",
       "      <td>int64</td>\n",
       "      <td>400000.0</td>\n",
       "      <td>NaN</td>\n",
       "      <td>NaN</td>\n",
       "      <td>NaN</td>\n",
       "      <td>11.741077</td>\n",
       "      <td>266.374535</td>\n",
       "      <td>0.0</td>\n",
       "      <td>0.0</td>\n",
       "      <td>0.0</td>\n",
       "      <td>0.0</td>\n",
       "      <td>44027.0</td>\n",
       "    </tr>\n",
       "    <tr>\n",
       "      <th>reviewCreatedVersion</th>\n",
       "      <td>object</td>\n",
       "      <td>258622</td>\n",
       "      <td>440</td>\n",
       "      <td>1.9.93.10904</td>\n",
       "      <td>28701</td>\n",
       "      <td>NaN</td>\n",
       "      <td>NaN</td>\n",
       "      <td>NaN</td>\n",
       "      <td>NaN</td>\n",
       "      <td>NaN</td>\n",
       "      <td>NaN</td>\n",
       "      <td>NaN</td>\n",
       "    </tr>\n",
       "    <tr>\n",
       "      <th>at</th>\n",
       "      <td>object</td>\n",
       "      <td>400000</td>\n",
       "      <td>396633</td>\n",
       "      <td>2024-06-21 17:26:04</td>\n",
       "      <td>4</td>\n",
       "      <td>NaN</td>\n",
       "      <td>NaN</td>\n",
       "      <td>NaN</td>\n",
       "      <td>NaN</td>\n",
       "      <td>NaN</td>\n",
       "      <td>NaN</td>\n",
       "      <td>NaN</td>\n",
       "    </tr>\n",
       "    <tr>\n",
       "      <th>replyContent</th>\n",
       "      <td>object</td>\n",
       "      <td>44543</td>\n",
       "      <td>17477</td>\n",
       "      <td>Hubungi kami dengan menuliskan tiket di https:...</td>\n",
       "      <td>2141</td>\n",
       "      <td>NaN</td>\n",
       "      <td>NaN</td>\n",
       "      <td>NaN</td>\n",
       "      <td>NaN</td>\n",
       "      <td>NaN</td>\n",
       "      <td>NaN</td>\n",
       "      <td>NaN</td>\n",
       "    </tr>\n",
       "    <tr>\n",
       "      <th>repliedAt</th>\n",
       "      <td>object</td>\n",
       "      <td>44543</td>\n",
       "      <td>44127</td>\n",
       "      <td>2020-11-07 15:36:15</td>\n",
       "      <td>4</td>\n",
       "      <td>NaN</td>\n",
       "      <td>NaN</td>\n",
       "      <td>NaN</td>\n",
       "      <td>NaN</td>\n",
       "      <td>NaN</td>\n",
       "      <td>NaN</td>\n",
       "      <td>NaN</td>\n",
       "    </tr>\n",
       "    <tr>\n",
       "      <th>appVersion</th>\n",
       "      <td>object</td>\n",
       "      <td>258622</td>\n",
       "      <td>440</td>\n",
       "      <td>1.9.93.10904</td>\n",
       "      <td>28701</td>\n",
       "      <td>NaN</td>\n",
       "      <td>NaN</td>\n",
       "      <td>NaN</td>\n",
       "      <td>NaN</td>\n",
       "      <td>NaN</td>\n",
       "      <td>NaN</td>\n",
       "      <td>NaN</td>\n",
       "    </tr>\n",
       "    <tr>\n",
       "      <th>clean_content</th>\n",
       "      <td>object</td>\n",
       "      <td>398982</td>\n",
       "      <td>356733</td>\n",
       "      <td>game bagus</td>\n",
       "      <td>1572</td>\n",
       "      <td>NaN</td>\n",
       "      <td>NaN</td>\n",
       "      <td>NaN</td>\n",
       "      <td>NaN</td>\n",
       "      <td>NaN</td>\n",
       "      <td>NaN</td>\n",
       "      <td>NaN</td>\n",
       "    </tr>\n",
       "  </tbody>\n",
       "</table>\n",
       "</div>"
      ],
      "text/plain": [
       "                       dtype     count  unique  \\\n",
       "reviewId              object    400000  400000   \n",
       "userName              object    400000   14943   \n",
       "userImage             object    400000   15101   \n",
       "content               object    400000  377697   \n",
       "score                  int64  400000.0     NaN   \n",
       "thumbsUpCount          int64  400000.0     NaN   \n",
       "reviewCreatedVersion  object    258622     440   \n",
       "at                    object    400000  396633   \n",
       "replyContent          object     44543   17477   \n",
       "repliedAt             object     44543   44127   \n",
       "appVersion            object    258622     440   \n",
       "clean_content         object    398982  356733   \n",
       "\n",
       "                                                                    top  \\\n",
       "reviewId                           da18edfa-431b-494d-8f2f-cd92414635a3   \n",
       "userName                                                Pengguna Google   \n",
       "userImage             https://play-lh.googleusercontent.com/EGemoI2N...   \n",
       "content                                                  Game nya bagus   \n",
       "score                                                               NaN   \n",
       "thumbsUpCount                                                       NaN   \n",
       "reviewCreatedVersion                                       1.9.93.10904   \n",
       "at                                                  2024-06-21 17:26:04   \n",
       "replyContent          Hubungi kami dengan menuliskan tiket di https:...   \n",
       "repliedAt                                           2020-11-07 15:36:15   \n",
       "appVersion                                                 1.9.93.10904   \n",
       "clean_content                                                game bagus   \n",
       "\n",
       "                        freq       mean         std  min  25%  50%  75%  \\\n",
       "reviewId                   1        NaN         NaN  NaN  NaN  NaN  NaN   \n",
       "userName              384889        NaN         NaN  NaN  NaN  NaN  NaN   \n",
       "userImage             384889        NaN         NaN  NaN  NaN  NaN  NaN   \n",
       "content                  606        NaN         NaN  NaN  NaN  NaN  NaN   \n",
       "score                    NaN   3.201427    1.793995  1.0  1.0  4.0  5.0   \n",
       "thumbsUpCount            NaN  11.741077  266.374535  0.0  0.0  0.0  0.0   \n",
       "reviewCreatedVersion   28701        NaN         NaN  NaN  NaN  NaN  NaN   \n",
       "at                         4        NaN         NaN  NaN  NaN  NaN  NaN   \n",
       "replyContent            2141        NaN         NaN  NaN  NaN  NaN  NaN   \n",
       "repliedAt                  4        NaN         NaN  NaN  NaN  NaN  NaN   \n",
       "appVersion             28701        NaN         NaN  NaN  NaN  NaN  NaN   \n",
       "clean_content           1572        NaN         NaN  NaN  NaN  NaN  NaN   \n",
       "\n",
       "                          max  \n",
       "reviewId                  NaN  \n",
       "userName                  NaN  \n",
       "userImage                 NaN  \n",
       "content                   NaN  \n",
       "score                     5.0  \n",
       "thumbsUpCount         44027.0  \n",
       "reviewCreatedVersion      NaN  \n",
       "at                        NaN  \n",
       "replyContent              NaN  \n",
       "repliedAt                 NaN  \n",
       "appVersion                NaN  \n",
       "clean_content             NaN  "
      ]
     },
     "execution_count": 5,
     "metadata": {},
     "output_type": "execute_result"
    }
   ],
   "source": [
    "dtypes_df = pd.DataFrame(df.dtypes, columns=['dtype'])\n",
    "desc = df.describe(include='all').T\n",
    "summary = dtypes_df.join(desc)\n",
    "summary"
   ]
  },
  {
   "cell_type": "code",
   "execution_count": 29,
   "id": "a8e969cb",
   "metadata": {},
   "outputs": [
    {
     "data": {
      "text/plain": [
       "reviewId                     0\n",
       "userName                     0\n",
       "userImage                    0\n",
       "content                      0\n",
       "score                        0\n",
       "thumbsUpCount                0\n",
       "reviewCreatedVersion    141378\n",
       "at                           0\n",
       "replyContent            355457\n",
       "repliedAt               355457\n",
       "appVersion              141378\n",
       "clean_content             1018\n",
       "dtype: int64"
      ]
     },
     "execution_count": 29,
     "metadata": {},
     "output_type": "execute_result"
    }
   ],
   "source": [
    "df.isnull().sum()"
   ]
  },
  {
   "cell_type": "code",
   "execution_count": 15,
   "id": "ac6afc93",
   "metadata": {},
   "outputs": [
    {
     "data": {
      "text/plain": [
       "clean_content    0\n",
       "score            0\n",
       "dtype: int64"
      ]
     },
     "execution_count": 15,
     "metadata": {},
     "output_type": "execute_result"
    }
   ],
   "source": [
    "df_clean = df[['clean_content', 'score']]\n",
    "df_clean.dropna(inplace=True)\n",
    "df_clean.isnull().sum()"
   ]
  },
  {
   "cell_type": "code",
   "execution_count": 16,
   "id": "8b2d9b79",
   "metadata": {},
   "outputs": [
    {
     "data": {
      "text/plain": [
       "0"
      ]
     },
     "execution_count": 16,
     "metadata": {},
     "output_type": "execute_result"
    }
   ],
   "source": [
    "df_clean.drop_duplicates(inplace=True)\n",
    "df_clean.duplicated().sum()"
   ]
  },
  {
   "cell_type": "code",
   "execution_count": 17,
   "id": "1edde709",
   "metadata": {},
   "outputs": [
    {
     "data": {
      "text/plain": [
       "(360700, 2)"
      ]
     },
     "execution_count": 17,
     "metadata": {},
     "output_type": "execute_result"
    }
   ],
   "source": [
    "df_clean.shape"
   ]
  },
  {
   "cell_type": "markdown",
   "id": "7c687e2d",
   "metadata": {},
   "source": [
    "# 2. Preprocessing Data"
   ]
  },
  {
   "cell_type": "markdown",
   "id": "2e76c5ab",
   "metadata": {},
   "source": [
    "## Handle Imbalance Data"
   ]
  },
  {
   "cell_type": "code",
   "execution_count": 36,
   "id": "6b1a8729",
   "metadata": {},
   "outputs": [
    {
     "data": {
      "image/png": "[encoded data removed]",
      "text/plain": [
       "<Figure size 1000x600 with 1 Axes>"
      ]
     },
     "metadata": {},
     "output_type": "display_data"
    }
   ],
   "source": [
    "import matplotlib.pyplot as plt\n",
    "\n",
    "plt.figure(figsize=(10,6))\n",
    "plt.bar(df_clean[\"score\"].value_counts().index, df_clean[\"score\"].value_counts().values)\n",
    "plt.title(\"Distribution of Scores\")\n",
    "plt.xlabel(\"Score\")\n",
    "plt.ylabel(\"Count\")\n",
    "plt.show()"
   ]
  },
  {
   "cell_type": "markdown",
   "id": "9aa66c44",
   "metadata": {},
   "source": [
    "### Undersampling"
   ]
  },
  {
   "cell_type": "code",
   "execution_count": 11,
   "id": "8fe5dcd8",
   "metadata": {},
   "outputs": [
    {
     "data": {
      "text/plain": [
       "score\n",
       "5    145370\n",
       "1    131946\n",
       "4     30326\n",
       "3     29921\n",
       "2     25364\n",
       "Name: count, dtype: int64"
      ]
     },
     "execution_count": 11,
     "metadata": {},
     "output_type": "execute_result"
    }
   ],
   "source": [
    "df_class_1 = df_clean[df_clean['score'] == 1]\n",
    "df_class_2 = df_clean[df_clean['score'] == 2]\n",
    "df_class_3 = df_clean[df_clean['score'] == 3]\n",
    "df_class_4 = df_clean[df_clean['score'] == 4]\n",
    "df_class_5 = df_clean[df_clean['score'] == 5]\n",
    "\n",
    "df_clean['score'].value_counts()"
   ]
  },
  {
   "cell_type": "code",
   "execution_count": 12,
   "id": "66804ebd",
   "metadata": {},
   "outputs": [
    {
     "name": "stdout",
     "output_type": "stream",
     "text": [
      "Random under-sampling:\n",
      "score\n",
      "1    25364\n",
      "2    25364\n",
      "3    25364\n",
      "4    25364\n",
      "5    25364\n",
      "Name: count, dtype: int64\n"
     ]
    }
   ],
   "source": [
    "df_class_1_under = df_class_1.sample(df_class_2.shape[0])\n",
    "df_class_3_under = df_class_3.sample(df_class_2.shape[0])\n",
    "df_class_4_under = df_class_4.sample(df_class_2.shape[0])\n",
    "df_class_5_under = df_class_5.sample(df_class_2.shape[0])\n",
    "\n",
    "df_test_under = pd.concat([df_class_1_under, df_class_2, df_class_3_under, df_class_4_under, df_class_5_under], axis=0)\n",
    "\n",
    "print('Random under-sampling:')\n",
    "print(df_test_under['score'].value_counts())"
   ]
  },
  {
   "cell_type": "code",
   "execution_count": 82,
   "id": "9ff2e413",
   "metadata": {},
   "outputs": [
    {
     "data": {
      "text/plain": [
       "126820"
      ]
     },
     "execution_count": 82,
     "metadata": {},
     "output_type": "execute_result"
    }
   ],
   "source": [
    "df_test_under.shape[0]"
   ]
  },
  {
   "cell_type": "markdown",
   "id": "3dc22802",
   "metadata": {},
   "source": [
    "## Preprocess Text"
   ]
  },
  {
   "cell_type": "code",
   "execution_count": 78,
   "id": "100a3521",
   "metadata": {},
   "outputs": [],
   "source": [
    "stop_words = set(stopwords.words('indonesian'))\n",
    "negasi_words = {\"tidak\", \"bukan\", \"nggak\", \"enggak\", \"tak\", \"ga\", \"gak\", \"tidak\"}\n",
    "stop_words = stop_words.difference(negasi_words)\n",
    "\n",
    "stem_factory = StemmerFactory()\n",
    "stemmer = stem_factory.create_stemmer()"
   ]
  },
  {
   "cell_type": "code",
   "execution_count": 79,
   "id": "7eb2a4e8",
   "metadata": {},
   "outputs": [],
   "source": [
    "indo_dict = {\n",
    "    \"anjir\": \"anjing\", \"anjay\": \"anjing\", \"asu\": \"anjing\",\n",
    "    \"ga\": \"tidak\", \"gk\": \"tidak\", \"gak\": \"tidak\",\n",
    "    \"bgt\": \"banget\", \"wkwk\": \"tertawa\",\n",
    "    \"gw\": \"saya\", \"gue\": \"saya\", \"loe\": \"kamu\", \"lu\": \"kamu\",\n",
    "    \"yg\": \"yang\", \"gmn\": \"bagaimana\", \"blm\": \"belum\", \"dgn\" : \"dengan\",\n",
    "    \"saja\": \"saja\", \"aja\": \"saja\", \"klo\": \"kalau\", \"kalo\": \"kalau\",\n",
    "    \"tp\": \"tapi\", \"tdk\": \"tidak\", \"td\": \"tidak\", \"trs\": \"terus\", \"trus\": \"terus\"\n",
    "}"
   ]
  },
  {
   "cell_type": "code",
   "execution_count": 80,
   "id": "f0a9d35c",
   "metadata": {},
   "outputs": [],
   "source": [
    "def normalize_with_tokenizer(text, dictionary):\n",
    "    tokens = word_tokenize(text.lower())\n",
    "    normalized_tokens = [dictionary.get(tok, tok) for tok in tokens]\n",
    "    return \" \".join(normalized_tokens)"
   ]
  },
  {
   "cell_type": "code",
   "execution_count": 83,
   "id": "b46aa122",
   "metadata": {},
   "outputs": [],
   "source": [
    "def remove_emoji(text):\n",
    "    emoji_pattern = re.compile(\"[\"\n",
    "                           u\"\\U0001F600-\\U0001F64F\"  # emoticon\n",
    "                           u\"\\U0001F300-\\U0001F5FF\"  # simbol & pictograph\n",
    "                           u\"\\U0001F680-\\U0001F6FF\"  # transport & map\n",
    "                           u\"\\U0001F1E0-\\U0001F1FF\"  # bendera\n",
    "                           u\"\\U00002700-\\U000027BF\"  # dingbat\n",
    "                           u\"\\U0001F900-\\U0001F9FF\"  # emoji tambahan\n",
    "                           \"]+\", flags=re.UNICODE)\n",
    "    return emoji_pattern.sub(r'', text)"
   ]
  },
  {
   "cell_type": "code",
   "execution_count": 84,
   "id": "73016026",
   "metadata": {},
   "outputs": [],
   "source": [
    "def preprocess_sentiment(text, apply_stemming=True):\n",
    "    if pd.isnull(text):\n",
    "        return \"\"\n",
    "\n",
    "    # 1. Case folding (lowercase)\n",
    "    text = text.lower()\n",
    "\n",
    "    # 2. Cleaning\n",
    "    text = re.sub(r\"http\\S+|www\\S+|https\\S+\", '', text)   # URL\n",
    "    text = re.sub(r'@\\w+', '', text)                      # mention\n",
    "    text = re.sub(r'#', '', text)                         # hapus simbol #\n",
    "    text = re.sub(r'\\d+', '', text)                       # angka\n",
    "    text = text.translate(str.maketrans('', '', string.punctuation))  # tanda baca\n",
    "    text = re.sub(r'[^\\w\\s]', '', text)                   # karakter non-alfabet\n",
    "    text = re.sub(r'\\s+', ' ', text).strip()              # spasi berlebih\n",
    "    text = remove_emoji(text)                             # 🚀 hapus emoji\n",
    "\n",
    "    # 3. Normalisasi slang\n",
    "    text = normalize_with_tokenizer(text, indo_dict)\n",
    "\n",
    "    # 4. Tokenizing\n",
    "    tokens = word_tokenize(text)\n",
    "\n",
    "    # 5. Remove stopwords\n",
    "    tokens = [w for w in tokens if w not in stop_words]\n",
    "\n",
    "    # 6. Stemming (opsional)\n",
    "    if apply_stemming:\n",
    "        tokens = [stemmer.stem(w) for w in tokens]\n",
    "\n",
    "    return \" \".join(tokens)"
   ]
  },
  {
   "cell_type": "code",
   "execution_count": 85,
   "id": "1b50d932",
   "metadata": {},
   "outputs": [],
   "source": [
    "df[\"clean_content\"] = df[\"content\"].apply(preprocess_sentiment)"
   ]
  },
  {
   "cell_type": "code",
   "execution_count": 38,
   "id": "d0e39125",
   "metadata": {},
   "outputs": [
    {
     "data": {
      "text/plain": [
       "(400000, 12)"
      ]
     },
     "execution_count": 38,
     "metadata": {},
     "output_type": "execute_result"
    }
   ],
   "source": [
    "df.shape"
   ]
  },
  {
   "cell_type": "code",
   "execution_count": 86,
   "id": "ca86347c",
   "metadata": {},
   "outputs": [
    {
     "data": {
      "text/html": [
       "<div>\n",
       "<style scoped>\n",
       "    .dataframe tbody tr th:only-of-type {\n",
       "        vertical-align: middle;\n",
       "    }\n",
       "\n",
       "    .dataframe tbody tr th {\n",
       "        vertical-align: top;\n",
       "    }\n",
       "\n",
       "    .dataframe thead th {\n",
       "        text-align: right;\n",
       "    }\n",
       "</style>\n",
       "<table border=\"1\" class=\"dataframe\">\n",
       "  <thead>\n",
       "    <tr style=\"text-align: right;\">\n",
       "      <th></th>\n",
       "      <th>content</th>\n",
       "      <th>clean_content</th>\n",
       "    </tr>\n",
       "  </thead>\n",
       "  <tbody>\n",
       "    <tr>\n",
       "      <th>0</th>\n",
       "      <td>seru si game nya ringan kalo dibandingin sama ...</td>\n",
       "      <td>seru si game nya ringan dibandingin moba gold ...</td>\n",
       "    </tr>\n",
       "    <tr>\n",
       "      <th>1</th>\n",
       "      <td>kenapa selalu setiap update file file yang sud...</td>\n",
       "      <td>update file file unduh unduh ulang kali update...</td>\n",
       "    </tr>\n",
       "    <tr>\n",
       "      <th>2</th>\n",
       "      <td>Saya sebagai pemain dirugikan pada update kali...</td>\n",
       "      <td>main rugi update kali bot main tim bot gerak t...</td>\n",
       "    </tr>\n",
       "    <tr>\n",
       "      <th>3</th>\n",
       "      <td>game nya udah seru banget, tapi tolong untuk f...</td>\n",
       "      <td>game nya udah seru banget tolong full data siz...</td>\n",
       "    </tr>\n",
       "    <tr>\n",
       "      <th>4</th>\n",
       "      <td>Ada 4 masalah yang saya harapkan diperbaiki : ...</td>\n",
       "      <td>harap baik matching player siang malam matchin...</td>\n",
       "    </tr>\n",
       "    <tr>\n",
       "      <th>...</th>\n",
       "      <td>...</td>\n",
       "      <td>...</td>\n",
       "    </tr>\n",
       "    <tr>\n",
       "      <th>399995</th>\n",
       "      <td>Gabut doang</td>\n",
       "      <td>gabut doang</td>\n",
       "    </tr>\n",
       "    <tr>\n",
       "      <th>399996</th>\n",
       "      <td>Game asu</td>\n",
       "      <td>game anjing</td>\n",
       "    </tr>\n",
       "    <tr>\n",
       "      <th>399997</th>\n",
       "      <td>game burik</td>\n",
       "      <td>game burik</td>\n",
       "    </tr>\n",
       "    <tr>\n",
       "      <th>399998</th>\n",
       "      <td>Gk seru</td>\n",
       "      <td>tidak seru</td>\n",
       "    </tr>\n",
       "    <tr>\n",
       "      <th>399999</th>\n",
       "      <td>Game jelek</td>\n",
       "      <td>game jelek</td>\n",
       "    </tr>\n",
       "  </tbody>\n",
       "</table>\n",
       "<p>400000 rows × 2 columns</p>\n",
       "</div>"
      ],
      "text/plain": [
       "                                                  content  \\\n",
       "0       seru si game nya ringan kalo dibandingin sama ...   \n",
       "1       kenapa selalu setiap update file file yang sud...   \n",
       "2       Saya sebagai pemain dirugikan pada update kali...   \n",
       "3       game nya udah seru banget, tapi tolong untuk f...   \n",
       "4       Ada 4 masalah yang saya harapkan diperbaiki : ...   \n",
       "...                                                   ...   \n",
       "399995                                        Gabut doang   \n",
       "399996                                           Game asu   \n",
       "399997                                         game burik   \n",
       "399998                                            Gk seru   \n",
       "399999                                         Game jelek   \n",
       "\n",
       "                                            clean_content  \n",
       "0       seru si game nya ringan dibandingin moba gold ...  \n",
       "1       update file file unduh unduh ulang kali update...  \n",
       "2       main rugi update kali bot main tim bot gerak t...  \n",
       "3       game nya udah seru banget tolong full data siz...  \n",
       "4       harap baik matching player siang malam matchin...  \n",
       "...                                                   ...  \n",
       "399995                                        gabut doang  \n",
       "399996                                        game anjing  \n",
       "399997                                         game burik  \n",
       "399998                                         tidak seru  \n",
       "399999                                         game jelek  \n",
       "\n",
       "[400000 rows x 2 columns]"
      ]
     },
     "execution_count": 86,
     "metadata": {},
     "output_type": "execute_result"
    }
   ],
   "source": [
    "df[[\"content\", \"clean_content\"]]\n"
   ]
  },
  {
   "cell_type": "code",
   "execution_count": 87,
   "id": "5b69d16a",
   "metadata": {},
   "outputs": [],
   "source": [
    "df.to_csv('dataset_MOBA_clean2.csv', index=False)"
   ]
  },
  {
   "cell_type": "markdown",
   "id": "9949cec3",
   "metadata": {},
   "source": [
    "# 3. Split Data"
   ]
  },
  {
   "cell_type": "code",
   "execution_count": 18,
   "id": "2ec85d9a",
   "metadata": {},
   "outputs": [],
   "source": [
    "X = df_test_under[\"clean_content\"]\n",
    "y = df_test_under[\"score\"]\n",
    "\n",
    "X_train, X_test, y_train, y_test = train_test_split(X, y, test_size=0.2, random_state=42, stratify=y)"
   ]
  },
  {
   "cell_type": "code",
   "execution_count": 20,
   "id": "94448420",
   "metadata": {},
   "outputs": [
    {
     "data": {
      "text/plain": [
       "((101456,), (25364,))"
      ]
     },
     "execution_count": 20,
     "metadata": {},
     "output_type": "execute_result"
    }
   ],
   "source": [
    "X_train.shape,X_test.shape"
   ]
  },
  {
   "cell_type": "markdown",
   "id": "beb87867",
   "metadata": {},
   "source": [
    "## Normalization Dataset"
   ]
  },
  {
   "cell_type": "code",
   "execution_count": 85,
   "id": "98524630",
   "metadata": {},
   "outputs": [],
   "source": [
    "preprocessor = ColumnTransformer(\n",
    "    transformers=[\n",
    "        (\"text\", TfidfVectorizer(max_features=20000, ngram_range=(1,2)), \"clean_content\")\n",
    "    ]\n",
    ")"
   ]
  },
  {
   "cell_type": "markdown",
   "id": "538e77dd",
   "metadata": {},
   "source": [
    "## Select Model"
   ]
  },
  {
   "cell_type": "code",
   "execution_count": 86,
   "id": "383c7c1b",
   "metadata": {},
   "outputs": [],
   "source": [
    "models = {\n",
    "    \"Logistic Regression\": LogisticRegression(max_iter=1000, random_state=42, class_weight='balanced'),\n",
    "    \"SVM\": LinearSVC(),\n",
    "    \"Random Forest\": RandomForestClassifier(n_estimators=100, random_state=42, n_jobs=-1),\n",
    "    \"SGD\": SGDClassifier(),\n",
    "    \"XGBoost\": XGBClassifier(eval_metric=\"mlogloss\", use_label_encoder=False)\n",
    "}"
   ]
  },
  {
   "cell_type": "markdown",
   "id": "12e06ba9",
   "metadata": {},
   "source": [
    "## Training Model"
   ]
  },
  {
   "cell_type": "code",
   "execution_count": 87,
   "id": "9e6ec66f",
   "metadata": {},
   "outputs": [
    {
     "name": "stdout",
     "output_type": "stream",
     "text": [
      "==================================================\n",
      "========== Training Logistic Regression ==========\n",
      "\n",
      "Accuracy Logistic Regression: 0.3958\n",
      "\n",
      "              precision    recall  f1-score   support\n",
      "\n",
      "           1       0.45      0.50      0.47      5073\n",
      "           2       0.31      0.31      0.31      5072\n",
      "           3       0.28      0.24      0.26      5073\n",
      "           4       0.36      0.32      0.34      5073\n",
      "           5       0.53      0.61      0.57      5073\n",
      "\n",
      "    accuracy                           0.40     25364\n",
      "   macro avg       0.39      0.40      0.39     25364\n",
      "weighted avg       0.39      0.40      0.39     25364\n",
      "\n",
      "==================================================\n",
      "================== Training SVM ==================\n",
      "\n",
      "Accuracy SVM: 0.3705\n",
      "\n",
      "              precision    recall  f1-score   support\n",
      "\n",
      "           1       0.42      0.47      0.44      5073\n",
      "           2       0.30      0.29      0.29      5072\n",
      "           3       0.26      0.23      0.24      5073\n",
      "           4       0.33      0.28      0.30      5073\n",
      "           5       0.50      0.58      0.54      5073\n",
      "\n",
      "    accuracy                           0.37     25364\n",
      "   macro avg       0.36      0.37      0.36     25364\n",
      "weighted avg       0.36      0.37      0.36     25364\n",
      "\n",
      "==================================================\n",
      "============= Training Random Forest =============\n",
      "\n",
      "Accuracy Random Forest: 0.3818\n",
      "\n",
      "              precision    recall  f1-score   support\n",
      "\n",
      "           1       0.43      0.50      0.46      5073\n",
      "           2       0.30      0.34      0.32      5072\n",
      "           3       0.27      0.21      0.23      5073\n",
      "           4       0.36      0.27      0.31      5073\n",
      "           5       0.50      0.59      0.54      5073\n",
      "\n",
      "    accuracy                           0.38     25364\n",
      "   macro avg       0.37      0.38      0.37     25364\n",
      "weighted avg       0.37      0.38      0.37     25364\n",
      "\n",
      "==================================================\n",
      "================== Training SGD ==================\n",
      "\n",
      "Accuracy SGD: 0.3789\n",
      "\n",
      "              precision    recall  f1-score   support\n",
      "\n",
      "           1       0.41      0.58      0.48      5073\n",
      "           2       0.30      0.21      0.25      5072\n",
      "           3       0.28      0.19      0.23      5073\n",
      "           4       0.33      0.18      0.24      5073\n",
      "           5       0.44      0.72      0.55      5073\n",
      "\n",
      "    accuracy                           0.38     25364\n",
      "   macro avg       0.35      0.38      0.35     25364\n",
      "weighted avg       0.35      0.38      0.35     25364\n",
      "\n",
      "==================================================\n",
      "================ Training XGBoost ================\n",
      "\n",
      "Accuracy XGBoost: 0.3904\n",
      "\n",
      "              precision    recall  f1-score   support\n",
      "\n",
      "           1       0.44      0.49      0.46      5073\n",
      "           2       0.32      0.33      0.33      5072\n",
      "           3       0.29      0.20      0.23      5073\n",
      "           4       0.37      0.30      0.33      5073\n",
      "           5       0.47      0.64      0.54      5073\n",
      "\n",
      "    accuracy                           0.39     25364\n",
      "   macro avg       0.38      0.39      0.38     25364\n",
      "weighted avg       0.38      0.39      0.38     25364\n",
      "\n"
     ]
    }
   ],
   "source": [
    "from sklearn.preprocessing import LabelEncoder\n",
    "\n",
    "results = {}\n",
    "\n",
    "# Label encoder untuk XGBClassifier\n",
    "le = LabelEncoder()\n",
    "y_train_enc = le.fit_transform(y_train)\n",
    "y_test_enc = le.transform(y_test)\n",
    "\n",
    "for name, clf in models.items():\n",
    "    print(\"=\"*50)\n",
    "    print(f\" Training {name} \".center(50, \"=\"))\n",
    "\n",
    "    pipe = Pipeline(steps=[\n",
    "        (\"preprocessor\", preprocessor),\n",
    "        (\"classifier\", clf)\n",
    "    ])\n",
    "\n",
    "    # Kalau model XGB → pakai encoded labels\n",
    "    if name.lower() == \"xgboost\":\n",
    "        pipe.fit(X_train, y_train_enc)\n",
    "        y_pred = pipe.predict(X_test)\n",
    "        # decode balik ke label asli (1–5)\n",
    "        y_pred_final = le.inverse_transform(y_pred)\n",
    "        acc = accuracy_score(y_test, y_pred_final)\n",
    "        print(f\"\\nAccuracy {name}: {acc:.4f}\\n\")\n",
    "        print(classification_report(y_test, y_pred_final))\n",
    "\n",
    "    else:\n",
    "        pipe.fit(X_train, y_train)\n",
    "        y_pred = pipe.predict(X_test)\n",
    "        acc = accuracy_score(y_test, y_pred)\n",
    "        print(f\"\\nAccuracy {name}: {acc:.4f}\\n\")\n",
    "        print(classification_report(y_test, y_pred))\n",
    "\n",
    "    results[name] = acc"
   ]
  },
  {
   "cell_type": "markdown",
   "id": "80e557a2",
   "metadata": {},
   "source": [
    "## LSTM"
   ]
  },
  {
   "cell_type": "code",
   "execution_count": 14,
   "id": "c54954af",
   "metadata": {},
   "outputs": [
    {
     "data": {
      "text/plain": [
       "['models/tokenizers.pkl']"
      ]
     },
     "execution_count": 14,
     "metadata": {},
     "output_type": "execute_result"
    }
   ],
   "source": [
    "from tensorflow.keras.preprocessing.text import Tokenizer\n",
    "import joblib\n",
    "\n",
    "tokenizer = Tokenizer(num_words=20000, oov_token=\"<OOV>\")\n",
    "tokenizer.fit_on_texts(df_test_under[\"clean_content\"])\n",
    "joblib.dump(tokenizer, \"models/tokenizers.pkl\")  # ✅ simpan objek Tokenizer\n"
   ]
  },
  {
   "cell_type": "code",
   "execution_count": null,
   "id": "aab3e62f",
   "metadata": {},
   "outputs": [],
   "source": [
    "import tensorflow as tf\n",
    "from tensorflow.keras.preprocessing.text import Tokenizer\n",
    "from tensorflow.keras.preprocessing.sequence import pad_sequences\n",
    "from tensorflow.keras.models import Sequential\n",
    "from tensorflow.keras.layers import Embedding, LSTM, Dense, Dropout\n",
    "from tensorflow.keras.optimizers import Adam\n",
    "\n",
    "optimizer = Adam(learning_rate=0.001)\n",
    "\n",
    "# embedding_layer = Embedding(\n",
    "#     input_dim=vocab_size,\n",
    "#     output_dim=embedding_dim,\n",
    "#     weights=[embedding_matrix],  # pakai Word2Vec CBOW\n",
    "#     input_length=100,\n",
    "#     trainable=False               # False = freeze Word2Vec, True = fine-tune\n",
    "# )\n",
    "\n",
    "# Tokenisasi\n",
    "tokenizer = Tokenizer(num_words=20000, oov_token=\"<OOV>\")\n",
    "tokenizer.fit_on_texts(df_test_under[\"clean_content\"])\n",
    "X = tokenizer.texts_to_sequences(df_test_under[\"clean_content\"])\n",
    "X = pad_sequences(X, maxlen=100)\n",
    "\n",
    "y = df_test_under[\"score\"] - 1   # shift rating jadi 0-4\n",
    "\n",
    "# Bangun model LSTM\n",
    "model = Sequential([\n",
    "    Embedding(input_dim=20000, output_dim=256, input_length=100),\n",
    "    LSTM(192, return_sequences=False),\n",
    "    Dropout(0.2),\n",
    "    Dense(96, activation=\"relu\"),\n",
    "    Dense(5, activation=\"softmax\")  # output 5 kelas rating\n",
    "])\n",
    "\n",
    "model.compile(loss=\"sparse_categorical_crossentropy\",\n",
    "              optimizer=optimizer,\n",
    "              metrics=[\"accuracy\"])\n",
    "\n",
    "# Train\n",
    "model.fit(X, y, validation_split=0.2, epochs=20, batch_size=128)\n",
    "model.save(\"rating_predict_best.h5\")\n"
   ]
  },
  {
   "cell_type": "code",
   "execution_count": 78,
   "id": "f73d3d9d",
   "metadata": {},
   "outputs": [
    {
     "name": "stdout",
     "output_type": "stream",
     "text": [
      "Trial 30 Complete [00h 08m 59s]\n",
      "accuracy: 0.4415978491306305\n",
      "\n",
      "Best accuracy So Far: 0.6863330602645874\n",
      "Total elapsed time: 07h 35m 18s\n",
      "\n",
      "Best hyperparameters:\n",
      "Embedding dim: 256\n",
      "LSTM units: 192\n",
      "Dropout: 0.2\n",
      "Dense units: 96\n",
      "Optimizer: adam\n",
      "Learning rate: 0.001\n",
      "\n",
      "Epoch 1/20\n",
      "\u001b[1m799/799\u001b[0m \u001b[32m━━━━━━━━━━━━━━━━━━━━\u001b[0m\u001b[37m\u001b[0m \u001b[1m372s\u001b[0m 462ms/step - accuracy: 0.3674 - loss: 1.3074 - val_accuracy: 0.0000e+00 - val_loss: 8.9271\n",
      "Epoch 2/20\n",
      "\u001b[1m799/799\u001b[0m \u001b[32m━━━━━━━━━━━━━━━━━━━━\u001b[0m\u001b[37m\u001b[0m \u001b[1m356s\u001b[0m 446ms/step - accuracy: 0.4638 - loss: 1.1717 - val_accuracy: 0.0000e+00 - val_loss: 11.3894\n",
      "Epoch 3/20\n",
      "\u001b[1m799/799\u001b[0m \u001b[32m━━━━━━━━━━━━━━━━━━━━\u001b[0m\u001b[37m\u001b[0m \u001b[1m355s\u001b[0m 444ms/step - accuracy: 0.5067 - loss: 1.1067 - val_accuracy: 0.0000e+00 - val_loss: 11.5396\n",
      "Epoch 4/20\n",
      "\u001b[1m799/799\u001b[0m \u001b[32m━━━━━━━━━━━━━━━━━━━━\u001b[0m\u001b[37m\u001b[0m \u001b[1m341s\u001b[0m 427ms/step - accuracy: 0.5517 - loss: 1.0241 - val_accuracy: 0.0000e+00 - val_loss: 13.0917\n"
     ]
    },
    {
     "name": "stderr",
     "output_type": "stream",
     "text": [
      "WARNING:absl:You are saving your model as an HDF5 file via `model.save()` or `keras.saving.save_model(model)`. This file format is considered legacy. We recommend using instead the native Keras format, e.g. `model.save('my_model.keras')` or `keras.saving.save_model(model, 'my_model.keras')`. \n"
     ]
    },
    {
     "data": {
      "text/plain": [
       "['tokenizer.pkl']"
      ]
     },
     "execution_count": 78,
     "metadata": {},
     "output_type": "execute_result"
    }
   ],
   "source": [
    "import tensorflow as tf\n",
    "from tensorflow.keras.models import Sequential\n",
    "from tensorflow.keras.layers import Embedding, LSTM, Dense, Dropout, Bidirectional\n",
    "from tensorflow.keras.preprocessing.text import Tokenizer\n",
    "from tensorflow.keras.preprocessing.sequence import pad_sequences\n",
    "from tensorflow.keras.optimizers import Adam, RMSprop\n",
    "import keras_tuner as kt\n",
    "\n",
    "# ============================\n",
    "# 1. Tokenizer & Padding\n",
    "# ============================\n",
    "MAX_WORDS = 20000\n",
    "MAX_LEN = 100\n",
    "\n",
    "# tokenizer = Tokenizer(num_words=MAX_WORDS, oov_token=\"<OOV>\")\n",
    "# tokenizer.fit_on_texts(df[\"clean_content\"])\n",
    "# X = tokenizer.texts_to_sequences(df[\"clean_content\"])\n",
    "# X = pad_sequences(X, maxlen=MAX_LEN)\n",
    "\n",
    "# y = df[\"score\"] - 1   # ubah jadi 0–4\n",
    "\n",
    "# ============================\n",
    "# 2. Definisikan Model Builder\n",
    "# ============================\n",
    "def build_model(hp):\n",
    "    model = Sequential()\n",
    "    # Embedding\n",
    "    model.add(Embedding(\n",
    "        input_dim=MAX_WORDS,\n",
    "        output_dim=hp.Choice(\"embedding_dim\", [64, 128, 256]),\n",
    "        input_length=MAX_LEN\n",
    "    ))\n",
    "    # LSTM\n",
    "    model.add(LSTM(\n",
    "        units=hp.Int(\"lstm_units\", min_value=64, max_value=256, step=64),\n",
    "        return_sequences=False\n",
    "    ))\n",
    "    # Dropout\n",
    "    model.add(Dropout(hp.Float(\"dropout\", 0.2, 0.5, step=0.1)))\n",
    "    # Dense hidden layer\n",
    "    model.add(Dense(hp.Int(\"dense_units\", 32, 128, step=32), activation=\"relu\"))\n",
    "    # Output layer\n",
    "    model.add(Dense(5, activation=\"softmax\"))\n",
    "\n",
    "    # Optimizer\n",
    "    optimizer = hp.Choice(\"optimizer\", [\"adam\", \"rmsprop\"])\n",
    "    if optimizer == \"adam\":\n",
    "        opt = Adam(learning_rate=hp.Choice(\"lr\", [1e-3, 5e-4, 1e-4]))\n",
    "    else:\n",
    "        opt = RMSprop(learning_rate=hp.Choice(\"lr\", [1e-3, 5e-4, 1e-4]))\n",
    "\n",
    "    model.compile(\n",
    "        optimizer=opt,\n",
    "        loss=\"sparse_categorical_crossentropy\",\n",
    "        metrics=[\"accuracy\"]\n",
    "    )\n",
    "    return model\n",
    "\n",
    "# ============================\n",
    "# 3. Keras Tuner\n",
    "# ============================\n",
    "tuner = kt.Hyperband(\n",
    "    build_model,\n",
    "    objective=\"accuracy\",\n",
    "    max_epochs=10,\n",
    "    factor=3,\n",
    "    directory=\"tuner_results\",\n",
    "    project_name=\"lstm_rating\"\n",
    ")\n",
    "\n",
    "# Early stopping\n",
    "stop_early = tf.keras.callbacks.EarlyStopping(monitor=\"val_loss\", patience=3, restore_best_weights=True)\n",
    "\n",
    "# Jalankan search\n",
    "tuner.search(X, y, epochs=15, validation_split=0.2, batch_size=128, callbacks=[stop_early])\n",
    "\n",
    "# ============================\n",
    "# 4. Dapatkan Model Terbaik\n",
    "# ============================\n",
    "best_hps = tuner.get_best_hyperparameters(num_trials=1)[0]\n",
    "print(f\"\"\"\n",
    "Best hyperparameters:\n",
    "Embedding dim: {best_hps.get('embedding_dim')}\n",
    "LSTM units: {best_hps.get('lstm_units')}\n",
    "Dropout: {best_hps.get('dropout')}\n",
    "Dense units: {best_hps.get('dense_units')}\n",
    "Optimizer: {best_hps.get('optimizer')}\n",
    "Learning rate: {best_hps.get('lr')}\n",
    "\"\"\")\n",
    "\n",
    "# ============================\n",
    "# 5. Train Ulang Model Terbaik\n",
    "# ============================\n",
    "model = tuner.hypermodel.build(best_hps)\n",
    "history = model.fit(X, y, validation_split=0.2, epochs=20, batch_size=128, callbacks=[stop_early])\n",
    "\n",
    "# Simpan model & tokenizer\n",
    "model.save(\"best_lstm_model.h5\")\n",
    "import joblib\n",
    "joblib.dump(tokenizer, \"tokenizer.pkl\")\n"
   ]
  }
 ],
 "metadata": {
  "kernelspec": {
   "display_name": "mlenv",
   "language": "python",
   "name": "python3"
  },
  "language_info": {
   "codemirror_mode": {
    "name": "ipython",
    "version": 3
   },
   "file_extension": ".py",
   "mimetype": "text/x-python",
   "name": "python",
   "nbconvert_exporter": "python",
   "pygments_lexer": "ipython3",
   "version": "3.10.18"
  }
 },
 "nbformat": 4,
 "nbformat_minor": 5
}
